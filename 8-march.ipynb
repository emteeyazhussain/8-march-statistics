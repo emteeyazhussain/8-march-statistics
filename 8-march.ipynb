{
 "cells": [
  {
   "cell_type": "markdown",
   "id": "be40f234-0709-4f27-adab-36cdb8f0f8ff",
   "metadata": {},
   "source": [
    "Q1.\n",
    "A probability density function (PDF) is a mathematical function that describes the probability distribution of a continuous random variable.\n",
    "\n",
    "The PDF gives the probability density at each point along the range of possible values that the random variable can take. The area under the curve of the PDF between any two points gives the probability that the random variable will take a value within that range.\n",
    "\n",
    "For example, let's say we have a continuous random variable X that can take any value between 0 and 10. The PDF for this variable might be a bell-shaped curve that is centered around a certain value (say, 5). The height of the curve at each point along the x-axis represents the probability density of X taking that value.\n",
    "\n",
    "The PDF can be used to calculate various properties of the random variable, such as its mean, variance, and higher moments. It is a fundamental concept in probability theory and is used in many areas of science, engineering, and statistics."
   ]
  },
  {
   "cell_type": "markdown",
   "id": "ad37a387-8810-45a2-91f8-9d64f02e7cdb",
   "metadata": {},
   "source": [
    "Q2.There are many types of probability distributions, but the most commonly used ones in statistics and probability theory are:\n",
    "\n",
    "Normal distribution: Also called Gaussian distribution, it is a continuous probability distribution that is symmetric and bell-shaped. It is widely used in modeling many natural phenomena and is characterized by two parameters: mean (μ) and standard deviation (σ).\n",
    "\n",
    "Binomial distribution: It is a discrete probability distribution that describes the probability of obtaining a certain number of successes in a fixed number of independent trials, where each trial has only two possible outcomes (success or failure).\n",
    "\n",
    "Poisson distribution: It is a discrete probability distribution that is often used to model the number of occurrences of rare events over a fixed interval of time or space. It has only one parameter, which represents the expected number of occurrences.\n",
    "\n",
    "Exponential distribution: It is a continuous probability distribution that models the time between two successive events in a Poisson process, where the events occur randomly and independently of each other.\n",
    "\n",
    "Uniform distribution: It is a continuous probability distribution that models the random selection of a value from a continuous interval, where each value has an equal probability of being selected.\n",
    "\n",
    "Beta distribution: It is a continuous probability distribution that models the distribution of probabilities or proportions, where the outcomes are binary (success or failure) and the probabilities are unknown but are believed to be uniformly distributed over a certain range.\n",
    "\n",
    "Gamma distribution: It is a continuous probability distribution that is often used to model the waiting time until a certain number of events occur, where the events occur independently of each other and follow a Poisson process."
   ]
  },
  {
   "cell_type": "code",
   "execution_count": 1,
   "id": "adb4f5ae-27c7-4e48-9ba7-c09f4fcfabb0",
   "metadata": {},
   "outputs": [],
   "source": [
    "# Q3.\n",
    "import math\n",
    "\n",
    "def normal_pdf(x, mean, std_dev):\n",
    "    \"\"\"\n",
    "    Returns the probability density function of a normal distribution\n",
    "    with given mean and standard deviation at a given point x.\n",
    "    \"\"\"\n",
    "    exponent = -((x - mean)**2) / (2 * (std_dev**2))\n",
    "    coef = 1 / (std_dev * math.sqrt(2 * math.pi))\n",
    "    return coef * math.exp(exponent)\n"
   ]
  },
  {
   "cell_type": "code",
   "execution_count": 3,
   "id": "59c16ba7-18ea-4a63-bc97-49b36925e9fd",
   "metadata": {},
   "outputs": [
    {
     "data": {
      "text/plain": [
       "0.17603266338214976"
      ]
     },
     "execution_count": 3,
     "metadata": {},
     "output_type": "execute_result"
    }
   ],
   "source": [
    "normal_pdf(2,1,2)"
   ]
  },
  {
   "cell_type": "markdown",
   "id": "34070b73-1f58-486e-98e6-71ffc79ccc6c",
   "metadata": {},
   "source": [
    "Q4. The properties of a binomial distribution are as follows:\n",
    "\n",
    "The binomial distribution is a discrete probability distribution, which means that it can only take on a finite number of possible values.\n",
    "\n",
    "The binomial distribution models the probability of a certain number of successes in a fixed number of independent trials, where each trial has only two possible outcomes (success or failure).\n",
    "\n",
    "The binomial distribution is characterized by two parameters: the number of trials (n) and the probability of success in each trial (p).\n",
    "\n",
    "The mean of a binomial distribution is equal to np, and the variance is equal to np*(1-p).\n",
    "\n",
    "The shape of a binomial distribution depends on the values of n and p. As n increases, the distribution becomes more symmetric and bell-shaped. As p moves closer to 0 or 1, the distribution becomes more peaked and narrow.\n",
    "\n",
    "Two examples of events where a binomial distribution can be applied are:\n",
    "\n",
    "A manufacturer produces light bulbs and wants to know the probability that a bulb will be defective. They randomly sample 100 bulbs from the production line and test them. If the probability of a bulb being defective is 0.05, then this can be modeled by a binomial distribution with n = 100 and p = 0.05.\n",
    "\n",
    "A student takes a multiple-choice exam with 20 questions, where each question has four possible answers and only one is correct. If the student guesses on each question, then the number of correct answers they get can be modeled by a binomial distribution with n = 20 and p = 0.25 (since there are four possible answers and only one is correct).\n",
    "\n",
    "Here are two more examples related to AI where binomial distribution can be applied:\n",
    "\n",
    "A machine learning model is trained to classify images into two categories (e.g., cat or dog). The accuracy of the model can be evaluated by testing it on a set of labeled images and counting the number of correct classifications. If there are 100 test images and the model has a true positive rate of 0.8 (i.e., it correctly classifies 80% of the images that belong to the positive category), then the number of correct classifications can be modeled by a binomial distribution with n = 100 and p = 0.8.\n",
    "\n",
    "An AI assistant is developed to schedule appointments for a busy professional. The assistant sends out meeting requests to potential clients, and the probability of a client accepting the request is 0.2. If the assistant sends out 20 meeting requests, then the number of accepted requests can be modeled by a binomial distribution with n = 20 and p = 0.2. This can help the developer estimate the success rate of the AI assistant in scheduling appointments and make improvements as needed.\n",
    "\n",
    "\n",
    "\n"
   ]
  },
  {
   "cell_type": "code",
   "execution_count": 4,
   "id": "9847211e-72cf-4a0a-a706-4711e0c6d9cd",
   "metadata": {},
   "outputs": [
    {
     "data": {
      "image/png": "[encoded data removed]",
      "text/plain": [
       "<Figure size 640x480 with 1 Axes>"
      ]
     },
     "metadata": {},
     "output_type": "display_data"
    }
   ],
   "source": [
    "# Q5.\n",
    "import numpy as np\n",
    "import matplotlib.pyplot as plt\n",
    "\n",
    "# Generate a random sample of size 1000 from a binomial distribution with p = 0.4\n",
    "n = 1000\n",
    "p = 0.4\n",
    "sample = np.random.binomial(n, p, size=1000)\n",
    "\n",
    "# Plot a histogram of the sample\n",
    "plt.hist(sample, bins=20)\n",
    "plt.title(\"Histogram of Binomial Distribution with p = 0.4\")\n",
    "plt.xlabel(\"Number of Successes\")\n",
    "plt.ylabel(\"Frequency\")\n",
    "plt.show()\n"
   ]
  },
  {
   "cell_type": "code",
   "execution_count": 5,
   "id": "8c96fb60-e8f2-4aac-8654-bf89dfe5355c",
   "metadata": {},
   "outputs": [],
   "source": [
    "# Q6.\n",
    "from scipy.stats import poisson\n",
    "\n",
    "def poisson_cdf(mean, k):\n",
    "    \"\"\"\n",
    "    Returns the cumulative distribution function (CDF) of a Poisson distribution\n",
    "    with the given mean at the given point k.\n",
    "    \"\"\"\n",
    "    cdf = poisson.cdf(k, mu=mean)\n",
    "    return cdf\n"
   ]
  },
  {
   "cell_type": "code",
   "execution_count": 9,
   "id": "c20c5528-cca3-4da3-92d3-5229e6b29955",
   "metadata": {},
   "outputs": [
    {
     "data": {
      "text/plain": [
       "0.8893260215974264"
      ]
     },
     "execution_count": 9,
     "metadata": {},
     "output_type": "execute_result"
    }
   ],
   "source": [
    "poisson_cdf(4,6)"
   ]
  },
  {
   "cell_type": "markdown",
   "id": "b5c9bd57-f2a6-4f89-80f5-0d1155dcad84",
   "metadata": {},
   "source": [
    "Q7.Binomial and Poisson distributions are both discrete probability distributions, but they are used to model different types of events.\n",
    "\n",
    "Binomial distribution is used to model the number of successes in a fixed number of independent trials, where each trial has only two possible outcomes (success or failure) and the probability of success is constant across trials. The key parameters of the binomial distribution are the number of trials (n) and the probability of success (p).\n",
    "\n",
    "Poisson distribution, on the other hand, is used to model the number of rare events that occur in a fixed amount of time or space, where the events occur randomly and independently of each other, but with a known average rate. The key parameter of the Poisson distribution is the average rate (λ) at which the events occur.\n",
    "\n",
    "In terms of their probability mass functions, the binomial distribution has a fixed number of trials and discrete outcomes (the number of successes can only take on integer values), while the Poisson distribution has a variable number of occurrences and also has discrete outcomes.\n",
    "\n",
    "Furthermore, as the number of trials in a binomial distribution increases and the probability of success approaches zero, the binomial distribution approaches the Poisson distribution. This is known as the Poisson limit theorem."
   ]
  },
  {
   "cell_type": "code",
   "execution_count": 10,
   "id": "1c581eef-cc17-4821-bddd-7d4d7ce08ad7",
   "metadata": {},
   "outputs": [
    {
     "name": "stdout",
     "output_type": "stream",
     "text": [
      "Sample mean: 5.0\n",
      "Sample variance: 5.44\n"
     ]
    }
   ],
   "source": [
    "# Q8.\n",
    "import numpy as np\n",
    "\n",
    "# Generate a random sample of size 1000 from a Poisson distribution with mean 5\n",
    "sample = np.random.poisson(5, size=1000)\n",
    "\n",
    "# Calculate the sample mean and variance\n",
    "sample_mean = np.mean(sample)\n",
    "sample_variance = np.var(sample)\n",
    "\n",
    "# Print the results\n",
    "print(\"Sample mean:\", sample_mean)\n",
    "print(\"Sample variance:\", sample_variance)\n"
   ]
  },
  {
   "cell_type": "markdown",
   "id": "2aafcb2c-6445-4192-a52f-f2484d552358",
   "metadata": {},
   "source": [
    "Q9.In both Binomial and Poisson distributions, the mean and variance are related, but in different ways.\n",
    "\n",
    "In the Binomial distribution, the mean is equal to the product of the number of trials (n) and the probability of success (p), while the variance is equal to the product of n, p, and (1-p). That is,\n",
    "\n",
    "mean = np\n",
    "\n",
    "variance = np(1-p)\n",
    "\n",
    "where n is the number of trials, and p is the probability of success.\n",
    "\n",
    "In the Poisson distribution, the mean is equal to the parameter λ, and the variance is also equal to λ. That is,\n",
    "\n",
    "mean = λ\n",
    "\n",
    "variance = λ\n",
    "\n",
    "where λ is the average rate at which rare events occur.\n",
    "\n",
    "Therefore, in the Binomial distribution, the variance increases as the probability of success deviates from 0.5, while in the Poisson distribution, the variance is always equal to the mean.\n",
    "\n",
    "This means that in the Binomial distribution, the shape of the distribution becomes more spread out (wider) as the probability of success moves away from 0.5, while in the Poisson distribution, the shape of the distribution remains the same regardless of the value of λ."
   ]
  },
  {
   "cell_type": "code",
   "execution_count": null,
   "id": "147d36fe-2372-4f2d-ad6a-8876165df4fd",
   "metadata": {},
   "outputs": [],
   "source": [
    "Q10."
   ]
  }
 ],
 "metadata": {
  "kernelspec": {
   "display_name": "Python 3 (ipykernel)",
   "language": "python",
   "name": "python3"
  },
  "language_info": {
   "codemirror_mode": {
    "name": "ipython",
    "version": 3
   },
   "file_extension": ".py",
   "mimetype": "text/x-python",
   "name": "python",
   "nbconvert_exporter": "python",
   "pygments_lexer": "ipython3",
   "version": "3.10.8"
  }
 },
 "nbformat": 4,
 "nbformat_minor": 5
}
